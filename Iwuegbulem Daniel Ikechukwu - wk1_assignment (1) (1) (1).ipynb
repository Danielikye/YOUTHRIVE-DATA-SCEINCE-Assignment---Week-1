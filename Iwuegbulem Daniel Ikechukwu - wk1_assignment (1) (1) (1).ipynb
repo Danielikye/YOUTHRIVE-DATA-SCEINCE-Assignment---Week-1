{
 "cells": [
  {
   "cell_type": "markdown",
   "metadata": {},
   "source": [
    "# Assignment - Python Programming Basics\n",
    "\n",
    "**Instruction:** Answer each question on a separate cell, either in a markdown or code cell depending on the question. "
   ]
  },
  {
   "cell_type": "markdown",
   "metadata": {},
   "source": [
    "## Question 1\n",
    "\n",
    "1. Why is consistent indentation important in Python, and what error does Python throw if the indentation in inconsistent?"
   ]
  },
  {
   "cell_type": "markdown",
   "metadata": {},
   "source": [
    "Consistent indentation in Python is crucial because it determines the structure and flow of the code. Python uses indentation to define the scope of loops, functions, conditionals, and other control structures. Unlike many other programming languages that use braces or keywords to denote blocks of code, Python relies solely on indentation.\n",
    "\n",
    "Here are some common IndentationError messages:\n",
    "IndentationError: unexpected indent: This occurs when there is an unexpected increase in indentation.\n",
    "IndentationError: unindent does not match any outer indentation level: This occurs when the indentation level is decreased in a way that doesn't match the expected structure."
   ]
  },
  {
   "cell_type": "markdown",
   "metadata": {},
   "source": [
    "## Question 2\n",
    "\n",
    "2. What are the mutable and immutable data types in Python? Give two examples of each.\n"
   ]
  },
  {
   "cell_type": "code",
   "execution_count": 18,
   "metadata": {},
   "outputs": [
    {
     "name": "stdout",
     "output_type": "stream",
     "text": [
      "[1, 2, 3, 4]\n"
     ]
    }
   ],
   "source": [
    "#Mutable data types are those whose values can be modified after they are created. Here are two examples:\n",
    "#list\n",
    "my_list = [1, 2, 3]\n",
    "my_list.append(4) \n",
    "print(my_list)\n"
   ]
  },
  {
   "cell_type": "code",
   "execution_count": 19,
   "metadata": {},
   "outputs": [
    {
     "ename": "NameError",
     "evalue": "name 'Tuple' is not defined",
     "output_type": "error",
     "traceback": [
      "\u001b[1;31m---------------------------------------------------------------------------\u001b[0m",
      "\u001b[1;31mNameError\u001b[0m                                 Traceback (most recent call last)",
      "\u001b[1;32m<ipython-input-19-bc6dabe36b9a>\u001b[0m in \u001b[0;36m<module>\u001b[1;34m\u001b[0m\n\u001b[0;32m      1\u001b[0m \u001b[1;31m#Immutable data types are those whose values cannot be modified after they are created. Here are two examples:\u001b[0m\u001b[1;33m\u001b[0m\u001b[1;33m\u001b[0m\u001b[1;33m\u001b[0m\u001b[0m\n\u001b[0;32m      2\u001b[0m \u001b[1;33m\u001b[0m\u001b[0m\n\u001b[1;32m----> 3\u001b[1;33m \u001b[0mTuple\u001b[0m\u001b[1;33m\u001b[0m\u001b[1;33m\u001b[0m\u001b[0m\n\u001b[0m\u001b[0;32m      4\u001b[0m \u001b[1;33m\u001b[0m\u001b[0m\n\u001b[0;32m      5\u001b[0m \u001b[0mmy_tuple\u001b[0m \u001b[1;33m=\u001b[0m \u001b[1;33m(\u001b[0m\u001b[1;36m1\u001b[0m\u001b[1;33m,\u001b[0m \u001b[1;36m2\u001b[0m\u001b[1;33m,\u001b[0m \u001b[1;36m3\u001b[0m\u001b[1;33m)\u001b[0m\u001b[1;33m\u001b[0m\u001b[1;33m\u001b[0m\u001b[0m\n",
      "\u001b[1;31mNameError\u001b[0m: name 'Tuple' is not defined"
     ]
    }
   ],
   "source": [
    "#Immutable data types are those whose values cannot be modified after they are created. Here are two examples:\n",
    "\n",
    "Tuple\n",
    "\n",
    "my_tuple = (1, 2, 3)\n",
    "#my_tuple[0] = 4  \n",
    "print(my_tuple)\n"
   ]
  },
  {
   "cell_type": "markdown",
   "metadata": {},
   "source": [
    "## Question 3\n",
    "\n",
    "3. How do you convert a floating-point number to an integer, and what happenss to the fractional part after conversion?"
   ]
  },
  {
   "cell_type": "markdown",
   "metadata": {},
   "source": [
    "convert a floating-point number to an integer using the int() function. When you convert a floating-point number to an integer, the fractional part is discarded (truncated), and only the integer part is retained. This means that the conversion process does not round the number but simply removes anything after the decimal point."
   ]
  },
  {
   "cell_type": "markdown",
   "metadata": {},
   "source": [
    "## Question 4\n",
    "\n",
    "4. What is the difference between a list and a tuple?\n"
   ]
  },
  {
   "cell_type": "markdown",
   "metadata": {},
   "source": [
    "List: Mutable, meaning the elements can be changed after the list is created.\n",
    "Tuple: Immutable, meaning once a tuple is created, its elements cannot be changed.\n",
    "List: Defined using square brackets []\n",
    "Tuple: Defined using parentheses ()"
   ]
  },
  {
   "cell_type": "markdown",
   "metadata": {},
   "source": [
    "## Question 5\n",
    "\n",
    "5. print out the datatype for the following variables? \n",
    "   ```python\n",
    "   a = 123\n",
    "   b = [1, 2, 3]\n",
    "   c = \"Python programming Language\"\n",
    "   d = (1, 2, 3)\n",
    "   e = {\"A\": 1, \"B\": 2, \"C\": 3}\n",
    "    ```"
   ]
  },
  {
   "cell_type": "code",
   "execution_count": 20,
   "metadata": {},
   "outputs": [
    {
     "name": "stdout",
     "output_type": "stream",
     "text": [
      "<class 'int'>\n",
      "<class 'list'>\n",
      "<class 'str'>\n",
      "<class 'tuple'>\n",
      "<class 'dict'>\n"
     ]
    }
   ],
   "source": [
    "a = 123\n",
    "b = [1, 2, 3]\n",
    "c = \"Python programming Language\"\n",
    "d = (1, 2, 3)\n",
    "e = {\"A\": 1, \"B\": 2, \"C\": 3}\n",
    "\n",
    "print(type(a)) \n",
    "print(type(b))  \n",
    "print(type(c))  \n",
    "print(type(d))  \n",
    "print(type(e))  "
   ]
  },
  {
   "cell_type": "markdown",
   "metadata": {},
   "source": [
    "## Question 6\n",
    "\n",
    "6. What is the difference between a comment and a docstring in Python, and how does Python treat each differently?"
   ]
  },
  {
   "cell_type": "markdown",
   "metadata": {},
   "source": [
    "Comments: Start with #.\n",
    "Docstrings: Enclosed in triple quotes \"\"\" or '''.\n",
    "\n",
    "Comments are alway been Ignored by the interpreter.\n",
    "Docstringsare Retained by the interpreter and accessible via the __doc__ attribute.\n"
   ]
  },
  {
   "cell_type": "markdown",
   "metadata": {},
   "source": [
    "## Question 8\n",
    "\n",
    "8. Create a dictionary containing the following information (you can just make up the information):\n",
    "    - Name (Use your name here)\n",
    "    - Age\n",
    "    - Sex\n",
    "    - Profession\n",
    "    - Religion\n",
    "    - Nationality\n"
   ]
  },
  {
   "cell_type": "code",
   "execution_count": 21,
   "metadata": {},
   "outputs": [
    {
     "name": "stdout",
     "output_type": "stream",
     "text": [
      "{'Name': 'Daniel', 'Age': 30, 'Sex': 'Male', 'Profession': 'Data Analyst', 'Religion': 'Christianity', 'Nationality': 'Nigerian'}\n"
     ]
    }
   ],
   "source": [
    "person_info = {\n",
    "    \"Name\": \"Daniel\",\n",
    "    \"Age\": 30,\n",
    "    \"Sex\": \"Male\",\n",
    "    \"Profession\": \"Data Analyst\",\n",
    "    \"Religion\": \"Christianity\",\n",
    "    \"Nationality\": \"Nigerian\"\n",
    "}\n",
    "\n",
    "print(person_info)"
   ]
  },
  {
   "cell_type": "markdown",
   "metadata": {},
   "source": [
    "## Question 7\n",
    "\n",
    "7. Do the following conversions and print out their new datatypes (Hint: use the type() function).\n",
    "  - ```1234``` to ```str```\n",
    "  - ```\"iPython\"``` to ```list```\n",
    "  - ```23.5``` to ```int```\n",
    "  - ```45``` to ```float```"
   ]
  },
  {
   "cell_type": "code",
   "execution_count": 22,
   "metadata": {},
   "outputs": [
    {
     "name": "stdout",
     "output_type": "stream",
     "text": [
      "1234\n",
      "<class 'str'>\n"
     ]
    }
   ],
   "source": [
    "# Converting 1234 to str\n",
    "num = 1234\n",
    "num_str = str(num)\n",
    "print(num_str)  \n",
    "print(type(num_str))\n",
    "\n",
    "\n"
   ]
  },
  {
   "cell_type": "code",
   "execution_count": 23,
   "metadata": {},
   "outputs": [
    {
     "name": "stdout",
     "output_type": "stream",
     "text": [
      "['i', 'P', 'y', 't', 'h', 'o', 'n']\n",
      "<class 'list'>\n"
     ]
    }
   ],
   "source": [
    "\n",
    "# Converting \"iPython\" to list\n",
    "b = \"iPython\"\n",
    "b_list = list(b)\n",
    "print(b_list)  \n",
    "print(type(b_list)) \n",
    "\n"
   ]
  },
  {
   "cell_type": "code",
   "execution_count": 24,
   "metadata": {},
   "outputs": [
    {
     "name": "stdout",
     "output_type": "stream",
     "text": [
      "23\n",
      "<class 'int'>\n"
     ]
    }
   ],
   "source": [
    "\n",
    "# Converting 23.5 to int\n",
    "c = 23.5\n",
    "c_int = int(c)\n",
    "print(c_int)\n",
    "print(type(c_int))  \n",
    "\n"
   ]
  },
  {
   "cell_type": "code",
   "execution_count": 25,
   "metadata": {},
   "outputs": [
    {
     "name": "stdout",
     "output_type": "stream",
     "text": [
      "45.0\n",
      "<class 'float'>\n"
     ]
    }
   ],
   "source": [
    "\n",
    "\n",
    "# Converting 45 to float\n",
    "d = 45\n",
    "d_float = float(d)\n",
    "print(d_float) \n",
    "print(type(d_float))  \n"
   ]
  },
  {
   "cell_type": "markdown",
   "metadata": {},
   "source": [
    "## Question 9\n",
    "\n",
    "9. Change the elements at index 3, 6, and 7 of the list ```[24, 56, \"programming\", \"javascript\", 56, 54.3, \"data analytics\", \"Argentina\"]``` to \"python\", \"data science\", and \"Nigeria\" respectfully."
   ]
  },
  {
   "cell_type": "code",
   "execution_count": 28,
   "metadata": {},
   "outputs": [
    {
     "name": "stdout",
     "output_type": "stream",
     "text": [
      "[24, 56, 'programming', 'python', 56, 54.3, 'data science', 'Nigeria']\n"
     ]
    }
   ],
   "source": [
    "my_personal_data = [24, 56, \"programming\", \"javascript\", 56, 54.3, \"data analytics\", \"Argentina\"]\n",
    "\n",
    "# Changing the elements\n",
    "my_personal_data[3] = \"python\"         \n",
    "my_personal_data[6] = \"data science\"   \n",
    "my_personal_data[7] = \"Nigeria\"       \n",
    "\n",
    "print(my_personal_data)"
   ]
  },
  {
   "cell_type": "markdown",
   "metadata": {},
   "source": [
    "## Question 10\n",
    "\n",
    "- Create a list, tuple and set containing 10 elements each, having a mix of integer, float and string datatypes."
   ]
  },
  {
   "cell_type": "code",
   "execution_count": 29,
   "metadata": {},
   "outputs": [
    {
     "name": "stdout",
     "output_type": "stream",
     "text": [
      "List: [1, 3.14, 'apple', 42, 'banana', 2.718, 100, 'orange', 5.0, 'grape']\n",
      "List type: <class 'list'>\n"
     ]
    }
   ],
   "source": [
    "my_list = [10, 38.14, 'ape', 42, 'nana', 2.718, 100, 'or', 5.0, 'rape']\n",
    "\n",
    "print(\"List:\", my_list)\n",
    "print(\"List type:\", type(my_list))"
   ]
  },
  {
   "cell_type": "code",
   "execution_count": 30,
   "metadata": {},
   "outputs": [
    {
     "name": "stdout",
     "output_type": "stream",
     "text": [
      "Set: {1.23, 3, 5, 6.28, 7.8, 'peach', 42, 'lemon', 'papaya', 'mango'}\n",
      "Set type: <class 'set'>\n"
     ]
    }
   ],
   "source": [
    "my_set = {42, 'each', 7.8, 'mon', 3, 'mao', 6.28, 5, 'papa', 1.23}\n",
    "\n",
    "print(\"Set:\", my_set)\n",
    "print(\"Set type:\", type(my_set))"
   ]
  },
  {
   "cell_type": "code",
   "execution_count": 31,
   "metadata": {},
   "outputs": [
    {
     "name": "stdout",
     "output_type": "stream",
     "text": [
      "Tuple: (10, 3.1415, 'kiwi', 56, 'melon', 1.618, 200, 'blueberry', 7.5, 'pineapple')\n",
      "Tuple type: <class 'tuple'>\n"
     ]
    }
   ],
   "source": [
    "my_tuple = (70, 3.1415, 'nii', 576, 'melon', 1.618, 2000, 'blueberry', 77.5, 'pineapple')\n",
    "\n",
    "print(\"Tuple:\", my_tuple)\n",
    "print(\"Tuple type:\", type(my_tuple))"
   ]
  },
  {
   "cell_type": "code",
   "execution_count": null,
   "metadata": {},
   "outputs": [],
   "source": []
  }
 ],
 "metadata": {
  "kernelspec": {
   "display_name": "Python 3",
   "language": "python",
   "name": "python3"
  },
  "language_info": {
   "codemirror_mode": {
    "name": "ipython",
    "version": 3
   },
   "file_extension": ".py",
   "mimetype": "text/x-python",
   "name": "python",
   "nbconvert_exporter": "python",
   "pygments_lexer": "ipython3",
   "version": "3.7.3"
  }
 },
 "nbformat": 4,
 "nbformat_minor": 5
}
